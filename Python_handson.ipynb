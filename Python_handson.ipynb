{
 "cells": [
  {
   "cell_type": "code",
   "execution_count": 1,
   "id": "727409fa-d3ad-45af-b7c8-9d48120ec850",
   "metadata": {},
   "outputs": [],
   "source": [
    "# This is a single line comment."
   ]
  },
  {
   "cell_type": "code",
   "execution_count": 2,
   "id": "4ea47cb0-033f-4b8e-8ac4-faabd0322193",
   "metadata": {},
   "outputs": [
    {
     "data": {
      "text/plain": [
       "'\\nUse 3 quotation marks to create a\\nmuliti-line\\ncomment!\\n'"
      ]
     },
     "execution_count": 2,
     "metadata": {},
     "output_type": "execute_result"
    }
   ],
   "source": [
    "'''\n",
    "Use 3 quotation marks to create a\n",
    "muliti-line\n",
    "comment!\n",
    "'''"
   ]
  },
  {
   "cell_type": "code",
   "execution_count": 3,
   "id": "532b0467-255c-46cb-a3c3-e504b493f0ad",
   "metadata": {},
   "outputs": [
    {
     "data": {
      "text/plain": [
       "'It can be done using single or double quotation marks, and can be on the same line.'"
      ]
     },
     "execution_count": 3,
     "metadata": {},
     "output_type": "execute_result"
    }
   ],
   "source": [
    "\"\"\"It can be done using single or double quotation marks, and can be on the same line.\"\"\""
   ]
  },
  {
   "cell_type": "code",
   "execution_count": 4,
   "id": "df7c0a67-2fbb-4451-8371-236c2bee0bf6",
   "metadata": {},
   "outputs": [],
   "source": [
    "variable = 24"
   ]
  },
  {
   "cell_type": "code",
   "execution_count": null,
   "id": "2a389b92-cc22-44b0-8d3a-e9766566dfd0",
   "metadata": {},
   "outputs": [],
   "source": []
  },
  {
   "cell_type": "code",
   "execution_count": 5,
   "id": "52616adc-7734-4377-acdd-77b081ef1940",
   "metadata": {},
   "outputs": [
    {
     "data": {
      "text/plain": [
       "int"
      ]
     },
     "execution_count": 5,
     "metadata": {},
     "output_type": "execute_result"
    }
   ],
   "source": [
    "type(variable)"
   ]
  },
  {
   "cell_type": "code",
   "execution_count": 6,
   "id": "28092f3e-315e-47c8-968a-205ae1304685",
   "metadata": {},
   "outputs": [],
   "source": [
    "variable_2 = \"This is a text!\""
   ]
  },
  {
   "cell_type": "code",
   "execution_count": 7,
   "id": "8a45fc7d-f88f-4620-8608-d8025b8f879c",
   "metadata": {},
   "outputs": [
    {
     "data": {
      "text/plain": [
       "str"
      ]
     },
     "execution_count": 7,
     "metadata": {},
     "output_type": "execute_result"
    }
   ],
   "source": [
    "type(variable_2)"
   ]
  },
  {
   "cell_type": "code",
   "execution_count": 8,
   "id": "ced22cc9-52a8-484e-a7fa-b610224d5496",
   "metadata": {},
   "outputs": [],
   "source": [
    "variable_4 = 45.7"
   ]
  },
  {
   "cell_type": "code",
   "execution_count": 9,
   "id": "7506426b-0e6c-46e0-8fc4-bf79f2bbf980",
   "metadata": {},
   "outputs": [
    {
     "data": {
      "text/plain": [
       "float"
      ]
     },
     "execution_count": 9,
     "metadata": {},
     "output_type": "execute_result"
    }
   ],
   "source": [
    "type(variable_4)"
   ]
  },
  {
   "cell_type": "code",
   "execution_count": null,
   "id": "be2081e6-0747-4bcc-8a00-1eff6e99df2b",
   "metadata": {},
   "outputs": [],
   "source": []
  },
  {
   "cell_type": "code",
   "execution_count": 10,
   "id": "466716b9-2917-4b6a-aa83-9a947472b203",
   "metadata": {},
   "outputs": [],
   "source": [
    "y = 4.6"
   ]
  },
  {
   "cell_type": "code",
   "execution_count": 11,
   "id": "abc89b15-68bd-455e-acf8-a3b42a8cc2be",
   "metadata": {},
   "outputs": [
    {
     "data": {
      "text/plain": [
       "5"
      ]
     },
     "execution_count": 11,
     "metadata": {},
     "output_type": "execute_result"
    }
   ],
   "source": [
    "round(y)"
   ]
  },
  {
   "cell_type": "code",
   "execution_count": 12,
   "id": "e907b1a6-a9db-4759-abe4-87b351de5c90",
   "metadata": {},
   "outputs": [],
   "source": [
    "list_1 = [\"This is a list\", \"that contains\" , \"both strings\", \"and numbers: \", 234, 34.56]"
   ]
  },
  {
   "cell_type": "code",
   "execution_count": 13,
   "id": "5445e2b0-f4d1-4a98-9e46-a3cf7e5b9f5e",
   "metadata": {},
   "outputs": [
    {
     "data": {
      "text/plain": [
       "list"
      ]
     },
     "execution_count": 13,
     "metadata": {},
     "output_type": "execute_result"
    }
   ],
   "source": [
    "type(list_1)"
   ]
  },
  {
   "cell_type": "code",
   "execution_count": 14,
   "id": "445a7ef3-366c-4ed8-972f-91c7d14cf0bd",
   "metadata": {},
   "outputs": [
    {
     "name": "stdout",
     "output_type": "stream",
     "text": [
      "['This is a list', 'that contains', 'both strings', 'and numbers: ', 234, 34.56]\n"
     ]
    }
   ],
   "source": [
    "print(list_1)"
   ]
  },
  {
   "cell_type": "code",
   "execution_count": 15,
   "id": "74d22cbd-ceb4-4f38-8403-9de6bd43307f",
   "metadata": {},
   "outputs": [],
   "source": [
    "x = (\"If put in parenthesis, \"\n",
    "     \"this can also be a muti-line \"\n",
    "     \"string! You just have to use single \"\n",
    "     \"quotation marks on each line, and\"\n",
    "     \"be careful about spaces between lines.\")"
   ]
  },
  {
   "cell_type": "code",
   "execution_count": 16,
   "id": "2d627928-c01d-480a-a864-3def1d937116",
   "metadata": {},
   "outputs": [
    {
     "name": "stdout",
     "output_type": "stream",
     "text": [
      "If put in parenthesis, this can also be a muti-line string! You just have to use single quotation marks on each line, andbe careful about spaces between lines.\n"
     ]
    }
   ],
   "source": [
    "print(x)"
   ]
  },
  {
   "cell_type": "code",
   "execution_count": 17,
   "id": "950dfc0b-ddd3-437d-a6f7-7b2e4f78a60c",
   "metadata": {},
   "outputs": [
    {
     "data": {
      "text/plain": [
       "str"
      ]
     },
     "execution_count": 17,
     "metadata": {},
     "output_type": "execute_result"
    }
   ],
   "source": [
    "type(x)"
   ]
  },
  {
   "cell_type": "code",
   "execution_count": 18,
   "id": "01e0c884-b355-4299-b17f-9cf1f7d69359",
   "metadata": {},
   "outputs": [],
   "source": [
    "tuple_1 = (\"This is a tuple\", \"that contains\" , \"both strings\", \"and numbers: \", 234, 34.56)"
   ]
  },
  {
   "cell_type": "code",
   "execution_count": 19,
   "id": "13b54c74-3941-425c-ac09-706ef23bbc50",
   "metadata": {},
   "outputs": [
    {
     "data": {
      "text/plain": [
       "tuple"
      ]
     },
     "execution_count": 19,
     "metadata": {},
     "output_type": "execute_result"
    }
   ],
   "source": [
    "type(tuple_1)"
   ]
  },
  {
   "cell_type": "code",
   "execution_count": 20,
   "id": "e445fa1d-d391-4ec5-8c74-ed5d8773d6f6",
   "metadata": {},
   "outputs": [
    {
     "name": "stdout",
     "output_type": "stream",
     "text": [
      "('This is a tuple', 'that contains', 'both strings', 'and numbers: ', 234, 34.56)\n"
     ]
    }
   ],
   "source": [
    "print(tuple_1)"
   ]
  },
  {
   "cell_type": "code",
   "execution_count": 21,
   "id": "6afd9fa0-c7ce-46b8-af16-88d8c1a86300",
   "metadata": {},
   "outputs": [
    {
     "data": {
      "text/plain": [
       "tuple"
      ]
     },
     "execution_count": 21,
     "metadata": {},
     "output_type": "execute_result"
    }
   ],
   "source": [
    "type(tuple_1)"
   ]
  },
  {
   "cell_type": "code",
   "execution_count": 22,
   "id": "6305fd69-00fd-43f9-b561-519a7d049a83",
   "metadata": {},
   "outputs": [
    {
     "data": {
      "text/plain": [
       "'This is a list'"
      ]
     },
     "execution_count": 22,
     "metadata": {},
     "output_type": "execute_result"
    }
   ],
   "source": [
    "list_1[0]"
   ]
  },
  {
   "cell_type": "code",
   "execution_count": 23,
   "id": "7d637d1b-1498-4964-8b7c-ef76eebd644b",
   "metadata": {},
   "outputs": [],
   "source": [
    "list_1[5] = 67"
   ]
  },
  {
   "cell_type": "code",
   "execution_count": 24,
   "id": "598d1828-6023-465a-bd15-52bc04880905",
   "metadata": {},
   "outputs": [
    {
     "name": "stdout",
     "output_type": "stream",
     "text": [
      "['This is a list', 'that contains', 'both strings', 'and numbers: ', 234, 67]\n"
     ]
    }
   ],
   "source": [
    "print(list_1)"
   ]
  },
  {
   "cell_type": "code",
   "execution_count": 25,
   "id": "1d52f085-df5a-4fa5-abd4-ab710f506a2c",
   "metadata": {},
   "outputs": [
    {
     "ename": "TypeError",
     "evalue": "'tuple' object does not support item assignment",
     "output_type": "error",
     "traceback": [
      "\u001b[1;31m---------------------------------------------------------------------------\u001b[0m",
      "\u001b[1;31mTypeError\u001b[0m                                 Traceback (most recent call last)",
      "\u001b[1;32m~\\AppData\\Local\\Temp\\ipykernel_8220\\834300593.py\u001b[0m in \u001b[0;36m<cell line: 1>\u001b[1;34m()\u001b[0m\n\u001b[1;32m----> 1\u001b[1;33m \u001b[0mtuple_1\u001b[0m\u001b[1;33m[\u001b[0m\u001b[1;36m5\u001b[0m\u001b[1;33m]\u001b[0m \u001b[1;33m=\u001b[0m \u001b[1;36m67\u001b[0m\u001b[1;33m\u001b[0m\u001b[1;33m\u001b[0m\u001b[0m\n\u001b[0m",
      "\u001b[1;31mTypeError\u001b[0m: 'tuple' object does not support item assignment"
     ]
    }
   ],
   "source": [
    "tuple_1[5] = 67"
   ]
  },
  {
   "cell_type": "code",
   "execution_count": 26,
   "id": "f329ab4e-8d5f-48ad-af13-1dcdc4e05eb4",
   "metadata": {},
   "outputs": [],
   "source": [
    "this_dict = {\n",
    "    \"name\": \"Jupiter\",\n",
    "    \"style\": \"Lab\",\n",
    "    \"version\": 3.3\n",
    "}"
   ]
  },
  {
   "cell_type": "code",
   "execution_count": 27,
   "id": "476d7c9f-715d-41bb-b78a-15ec0bdc391f",
   "metadata": {},
   "outputs": [
    {
     "data": {
      "text/plain": [
       "'Jupiter'"
      ]
     },
     "execution_count": 27,
     "metadata": {},
     "output_type": "execute_result"
    }
   ],
   "source": [
    "this_dict[\"name\"]"
   ]
  },
  {
   "cell_type": "code",
   "execution_count": 28,
   "id": "73f3e72a-c068-4062-b32b-57acf6f666be",
   "metadata": {},
   "outputs": [],
   "source": [
    "a = 33"
   ]
  },
  {
   "cell_type": "code",
   "execution_count": 29,
   "id": "7b22e6a3-5f53-40b2-9742-aef368efc4d6",
   "metadata": {},
   "outputs": [],
   "source": [
    "b = 200"
   ]
  },
  {
   "cell_type": "code",
   "execution_count": 30,
   "id": "a4729918-633b-4a06-9854-c4676d318b72",
   "metadata": {},
   "outputs": [
    {
     "name": "stdout",
     "output_type": "stream",
     "text": [
      "b is greater than a\n"
     ]
    }
   ],
   "source": [
    "if b > a:\n",
    "    print(\"b is greater than a\")"
   ]
  },
  {
   "cell_type": "code",
   "execution_count": 31,
   "id": "a61b790f-c99c-448d-933d-6a88cf2956f3",
   "metadata": {},
   "outputs": [],
   "source": [
    "while a < 10:\n",
    "    print(a)\n",
    "    a = a + 1"
   ]
  },
  {
   "cell_type": "code",
   "execution_count": 32,
   "id": "5239a7e5-72d5-4a5b-8445-f5814ffa13b5",
   "metadata": {},
   "outputs": [
    {
     "name": "stdout",
     "output_type": "stream",
     "text": [
      "In\n",
      "Out\n",
      "_\n",
      "_11\n",
      "_13\n",
      "_17\n",
      "_19\n",
      "_2\n",
      "_21\n",
      "_22\n",
      "_27\n",
      "_3\n",
      "_5\n",
      "_7\n",
      "_9\n",
      "__\n",
      "___\n",
      "__builtin__\n",
      "__builtins__\n",
      "__doc__\n",
      "__loader__\n",
      "__name__\n",
      "__package__\n",
      "__spec__\n",
      "_dh\n",
      "_i\n",
      "_i1\n",
      "_i10\n",
      "_i11\n",
      "_i12\n",
      "_i13\n",
      "_i14\n",
      "_i15\n",
      "_i16\n",
      "_i17\n",
      "_i18\n",
      "_i19\n",
      "_i2\n",
      "_i20\n",
      "_i21\n",
      "_i22\n",
      "_i23\n",
      "_i24\n",
      "_i25\n",
      "_i26\n",
      "_i27\n",
      "_i28\n",
      "_i29\n",
      "_i3\n",
      "_i30\n",
      "_i31\n",
      "_i32\n",
      "_i4\n",
      "_i5\n",
      "_i6\n",
      "_i7\n",
      "_i8\n",
      "_i9\n",
      "_ih\n",
      "_ii\n",
      "_iii\n",
      "_oh\n",
      "a\n",
      "b\n",
      "exit\n",
      "get_ipython\n",
      "list_1\n",
      "quit\n",
      "this_dict\n",
      "tuple_1\n",
      "variable\n",
      "variable_2\n",
      "variable_4\n",
      "x\n",
      "y\n"
     ]
    }
   ],
   "source": [
    "test = dir()\n",
    "for i in test:\n",
    "    print(i)"
   ]
  },
  {
   "cell_type": "code",
   "execution_count": 33,
   "id": "5be95922-4ba8-46c3-9cb4-42fc99be1a91",
   "metadata": {},
   "outputs": [
    {
     "ename": "SyntaxError",
     "evalue": "invalid syntax (3682453170.py, line 1)",
     "output_type": "error",
     "traceback": [
      "\u001b[1;36m  File \u001b[1;32m\"C:\\Users\\HP\\AppData\\Local\\Temp\\ipykernel_8220\\3682453170.py\"\u001b[1;36m, line \u001b[1;32m1\u001b[0m\n\u001b[1;33m    print datetime.datetime.now()\u001b[0m\n\u001b[1;37m          ^\u001b[0m\n\u001b[1;31mSyntaxError\u001b[0m\u001b[1;31m:\u001b[0m invalid syntax\n"
     ]
    }
   ],
   "source": [
    "print datetime.datetime.now()"
   ]
  },
  {
   "cell_type": "code",
   "execution_count": null,
   "id": "3eba2ba3-dde7-4062-9fe2-6549d80b9661",
   "metadata": {},
   "outputs": [],
   "source": []
  },
  {
   "cell_type": "code",
   "execution_count": null,
   "id": "58b9ee05-be7d-4b67-8a60-67c8ca3ed24c",
   "metadata": {},
   "outputs": [],
   "source": []
  }
 ],
 "metadata": {
  "kernelspec": {
   "display_name": "Python 3 (ipykernel)",
   "language": "python",
   "name": "python3"
  },
  "language_info": {
   "codemirror_mode": {
    "name": "ipython",
    "version": 3
   },
   "file_extension": ".py",
   "mimetype": "text/x-python",
   "name": "python",
   "nbconvert_exporter": "python",
   "pygments_lexer": "ipython3",
   "version": "3.9.18"
  }
 },
 "nbformat": 4,
 "nbformat_minor": 5
}
