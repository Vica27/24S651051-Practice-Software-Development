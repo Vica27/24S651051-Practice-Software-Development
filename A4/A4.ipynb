{
 "cells": [
  {
   "cell_type": "code",
   "execution_count": 3,
   "id": "9fa6c17a-9108-4f34-84e3-8bc1f62c56b4",
   "metadata": {},
   "outputs": [],
   "source": [
    "## Geospecific Functions for Salzburg and Munich"
   ]
  },
  {
   "cell_type": "code",
   "execution_count": 4,
   "id": "191e7418-707f-4c85-8f90-c99ac9c66181",
   "metadata": {},
   "outputs": [],
   "source": [
    "# This notebook demonstrates the usage of custom functions for retrieving population, weather, and calculating distances for Salzburg and Munich."
   ]
  },
  {
   "cell_type": "code",
   "execution_count": 5,
   "id": "99736402-ba16-4c11-897c-16ab9d4c81d1",
   "metadata": {},
   "outputs": [],
   "source": [
    "# Importing custom functions"
   ]
  },
  {
   "cell_type": "code",
   "execution_count": 6,
   "id": "bf5195a0-c973-4d1f-9db4-d3930a033403",
   "metadata": {},
   "outputs": [],
   "source": [
    "import folium"
   ]
  },
  {
   "cell_type": "code",
   "execution_count": 7,
   "id": "356a1467-eb79-4c88-917f-74fc18e70c84",
   "metadata": {},
   "outputs": [],
   "source": [
    "import pandas"
   ]
  },
  {
   "cell_type": "code",
   "execution_count": 8,
   "id": "9ec1195e-6591-46c6-8707-3a26ba864a56",
   "metadata": {},
   "outputs": [],
   "source": [
    "import geopandas"
   ]
  },
  {
   "cell_type": "code",
   "execution_count": 9,
   "id": "8f643272-3bca-4510-825c-4c47471ba12c",
   "metadata": {},
   "outputs": [],
   "source": [
    "import matplotlib.pyplot"
   ]
  },
  {
   "cell_type": "code",
   "execution_count": 10,
   "id": "09f2db78-6190-4760-8839-fbf4980a821b",
   "metadata": {},
   "outputs": [],
   "source": [
    "import numpy"
   ]
  },
  {
   "cell_type": "code",
   "execution_count": 11,
   "id": "d6167f7a-b85b-4d43-99a5-f5488b2b508c",
   "metadata": {},
   "outputs": [],
   "source": [
    "from A4_geospecific_functions import get_population, get_weather, calculate_distance"
   ]
  },
  {
   "cell_type": "code",
   "execution_count": 12,
   "id": "7b023648-9a22-44a1-8ac4-2b204fcaccd4",
   "metadata": {},
   "outputs": [],
   "source": [
    "# Example usage for Salzburg"
   ]
  },
  {
   "cell_type": "code",
   "execution_count": 13,
   "id": "3519f295-8674-47ba-836e-caec2157d5e0",
   "metadata": {},
   "outputs": [],
   "source": [
    "salzburg_population = get_population(\"Salzburg\")"
   ]
  },
  {
   "cell_type": "code",
   "execution_count": 14,
   "id": "f5347854-7c59-4e1b-ad5e-aa9424f46e4e",
   "metadata": {},
   "outputs": [
    {
     "name": "stdout",
     "output_type": "stream",
     "text": [
      "Population of Salzburg: None\n"
     ]
    }
   ],
   "source": [
    "print(f\"Population of Salzburg: {salzburg_population}\")"
   ]
  },
  {
   "cell_type": "code",
   "execution_count": 15,
   "id": "e9adefef-2d63-40bc-b900-94d579dee5ac",
   "metadata": {},
   "outputs": [],
   "source": [
    "salzburg_weather = get_weather(\"Salzburg\")"
   ]
  },
  {
   "cell_type": "code",
   "execution_count": 16,
   "id": "d6b8cad2-2c68-48aa-b8bb-cf30bddadc0b",
   "metadata": {},
   "outputs": [
    {
     "name": "stdout",
     "output_type": "stream",
     "text": [
      "Current weather in Salzburg: None\n"
     ]
    }
   ],
   "source": [
    "print(f\"Current weather in Salzburg: {salzburg_weather}\")"
   ]
  },
  {
   "cell_type": "code",
   "execution_count": 17,
   "id": "10d7bd13-703d-4ca5-a043-76aab01f52d2",
   "metadata": {},
   "outputs": [],
   "source": [
    "# Example usage for Munich"
   ]
  },
  {
   "cell_type": "code",
   "execution_count": 18,
   "id": "5285f2e0-9cdf-40d2-9f16-2a67d8779cbb",
   "metadata": {},
   "outputs": [],
   "source": [
    "munich_population = get_population(\"Munich\")"
   ]
  },
  {
   "cell_type": "code",
   "execution_count": 19,
   "id": "44a18fb9-b52d-4ec2-9bdf-65bf1996e039",
   "metadata": {},
   "outputs": [
    {
     "name": "stdout",
     "output_type": "stream",
     "text": [
      "Population of Munich: None\n"
     ]
    }
   ],
   "source": [
    "print(f\"Population of Munich: {munich_population}\")"
   ]
  },
  {
   "cell_type": "code",
   "execution_count": 20,
   "id": "8c75abce-7767-4e16-a433-4886a7bc709c",
   "metadata": {},
   "outputs": [],
   "source": [
    "munich_weather = get_weather(\"Munich\")"
   ]
  },
  {
   "cell_type": "code",
   "execution_count": 21,
   "id": "31f2fb2f-f91b-4512-8903-e49e208305f9",
   "metadata": {},
   "outputs": [
    {
     "name": "stdout",
     "output_type": "stream",
     "text": [
      "Current weather in Munich: None\n"
     ]
    }
   ],
   "source": [
    "print(f\"Current weather in Munich: {munich_weather}\")"
   ]
  },
  {
   "cell_type": "code",
   "execution_count": 22,
   "id": "2a3cec82-329d-4b61-96ff-3d14f039d300",
   "metadata": {},
   "outputs": [],
   "source": [
    "# Calculate distance between Salzburg and Munich"
   ]
  },
  {
   "cell_type": "code",
   "execution_count": 23,
   "id": "7f27a79c-c13c-4753-9c89-38c0a3229c71",
   "metadata": {},
   "outputs": [],
   "source": [
    "distance_km = calculate_distance(47.80000, 13.04500, 48.13750, 11.57500)"
   ]
  },
  {
   "cell_type": "code",
   "execution_count": 24,
   "id": "fa513c79-438a-469a-af82-d864d82cb886",
   "metadata": {},
   "outputs": [
    {
     "ename": "TypeError",
     "evalue": "unsupported format string passed to NoneType.__format__",
     "output_type": "error",
     "traceback": [
      "\u001b[1;31m---------------------------------------------------------------------------\u001b[0m",
      "\u001b[1;31mTypeError\u001b[0m                                 Traceback (most recent call last)",
      "Cell \u001b[1;32mIn[24], line 1\u001b[0m\n\u001b[1;32m----> 1\u001b[0m \u001b[38;5;28mprint\u001b[39m(\u001b[38;5;124mf\u001b[39m\u001b[38;5;124m\"\u001b[39m\u001b[38;5;124mDistance between Salzburg and Munich: \u001b[39m\u001b[38;5;132;01m{\u001b[39;00mdistance_km\u001b[38;5;132;01m:\u001b[39;00m\u001b[38;5;124m.2f\u001b[39m\u001b[38;5;132;01m}\u001b[39;00m\u001b[38;5;124m km\u001b[39m\u001b[38;5;124m\"\u001b[39m)\n",
      "\u001b[1;31mTypeError\u001b[0m: unsupported format string passed to NoneType.__format__"
     ]
    }
   ],
   "source": [
    "print(f\"Distance between Salzburg and Munich: {distance_km:.2f} km\")"
   ]
  },
  {
   "cell_type": "code",
   "execution_count": null,
   "id": "bad3e562-ba12-41d1-915a-46eb9acba685",
   "metadata": {},
   "outputs": [],
   "source": []
  }
 ],
 "metadata": {
  "kernelspec": {
   "display_name": "Python 3 (ipykernel)",
   "language": "python",
   "name": "python3"
  },
  "language_info": {
   "codemirror_mode": {
    "name": "ipython",
    "version": 3
   },
   "file_extension": ".py",
   "mimetype": "text/x-python",
   "name": "python",
   "nbconvert_exporter": "python",
   "pygments_lexer": "ipython3",
   "version": "3.11.9"
  }
 },
 "nbformat": 4,
 "nbformat_minor": 5
}
